{
 "cells": [
  {
   "cell_type": "code",
   "execution_count": 1,
   "metadata": {},
   "outputs": [],
   "source": [
    "tst = \"Lorem ipsum dolor sit amet, consetetur sadipscing elitr, sed diam nonumy eirmod tempor invidunt ut labore et dolore magna aliquyam erat, sed diam voluptua. At vero eos et accusam et justo duo dolores et ea rebum. Stet clita kasd gubergren, no sea takimata sanctus est Lorem ipsum dolor sit amet. Lorem ipsum dolor sit amet, consetetur sadipscing elitr, sed diam nonumy eirmod tempor invidunt ut labore et dolore magna aliquyam erat, sed diam voluptua. At vero eos et accusam et justo duo dolores et ea rebum. Stet clita kasd gubergren, no sea takimata sanctus est Lorem ipsum dolor sit amet.\""
   ]
  },
  {
   "cell_type": "code",
   "execution_count": 2,
   "metadata": {},
   "outputs": [],
   "source": [
    "from  reportlab.lib.styles import ParagraphStyle as PS\n",
    "from  reportlab.platypus import PageBreak, Table, TableStyle\n",
    "from  reportlab.platypus.paragraph import Paragraph\n",
    "from  reportlab.platypus.doctemplate import PageTemplate, BaseDocTemplate\n",
    "from  reportlab.platypus.tableofcontents import TableOfContents\n",
    "from  reportlab.platypus.frames import Frame\n",
    "from  reportlab.lib.units import cm\n",
    "from reportlab.lib.pagesizes import A4\n",
    "from reportlab.lib import colors\n",
    "from reportlab.graphics.shapes import *\n",
    "from reportlab.pdfgen import canvas\n",
    "import pandas as pd\n",
    "from reportlab.lib.sequencer import setSequencer, Sequencer\n",
    "from reportlab.pdfbase.pdfmetrics import stringWidth\n",
    "from reportlab.lib.enums import TA_JUSTIFY, TA_RIGHT, TA_CENTER, TA_LEFT\n",
    "\n",
    "    \n",
    "setSequencer(Sequencer())"
   ]
  },
  {
   "cell_type": "code",
   "execution_count": 3,
   "metadata": {},
   "outputs": [
    {
     "data": {
      "text/plain": [
       "0     46.704\n",
       "1     46.704\n",
       "2     46.704\n",
       "3     46.704\n",
       "4     46.704\n",
       "       ...  \n",
       "95    46.704\n",
       "96    46.704\n",
       "97    46.704\n",
       "98    46.704\n",
       "99    46.704\n",
       "Name: A, Length: 100, dtype: float64"
      ]
     },
     "execution_count": 3,
     "metadata": {},
     "output_type": "execute_result"
    }
   ],
   "source": [
    "# delete_me: just returns lenth of each cell\n",
    "\n",
    "#text_width = stringWidth(header_str, 'Helvetica',12)\n",
    "# table data\n",
    "df = pd.DataFrame({'num_legs': [2, 4, 8, 0],\n",
    "                   'num_wings': [2, 0, 0, 0],\n",
    "                   'num_specimen_seen': [10, 2, 1, 8]},\n",
    "                  index=['falcon', 'dog', 'spider', 'fish'])\n",
    "import numpy as np\n",
    "import pandas as pd\n",
    "df = pd.DataFrame(np.random.randint(1000000,10000000,size=(100, 4)), columns=list('ABCD'))\n",
    "df['A'].apply(str).apply(lambda x: stringWidth(x, 'Helvetica',12))"
   ]
  },
  {
   "cell_type": "code",
   "execution_count": 4,
   "metadata": {},
   "outputs": [],
   "source": [
    "# table data\n",
    "df = pd.DataFrame({'num_legs': [2, 4, 8, 0],\n",
    "                   'num_wings': [2, 0, 0, 0],\n",
    "                   'num_specimen_seen': [10, 2, 1, 8]},\n",
    "                  index=['falcon', 'dog', 'spider', 'fish'])\n",
    "import numpy as np\n",
    "import pandas as pd\n",
    "df = pd.DataFrame(np.random.randint(1000000,10000000,size=(100, 4)), columns=list('ABCD'))\n",
    "df['A'] = df['A'].apply(str)\n",
    "\n",
    "data = [['']+[i for i in df.columns]]\n",
    "\n",
    "for i, row in df.iterrows():\n",
    "    vals = row.values.tolist()\n",
    "    data.append([i]+vals)"
   ]
  },
  {
   "cell_type": "code",
   "execution_count": 5,
   "metadata": {},
   "outputs": [
    {
     "data": {
      "text/plain": [
       "22.68"
      ]
     },
     "execution_count": 5,
     "metadata": {},
     "output_type": "execute_result"
    }
   ],
   "source": [
    "text_width = stringWidth('blah', \"Helvetica\", 12)\n",
    "text_width"
   ]
  },
  {
   "cell_type": "code",
   "execution_count": 6,
   "metadata": {},
   "outputs": [],
   "source": [
    "def header(canvas, doc):\n",
    "    canvas.saveState()\n",
    "    canvas.setLineWidth(.5)\n",
    "    canvas.line(300,800,A4[0] - 66,800)\n",
    "    header_str = \"This is a test document\"\n",
    "    canvas.setFont('Helvetica',12)\n",
    "    text_width = stringWidth(header_str, 'Helvetica',12)\n",
    "    height = 805\n",
    "    canvas.drawString((A4[0] - 66-text_width),height, header_str)\n",
    "    canvas.restoreState()\n",
    "\n",
    "class PageCount:\n",
    "    tot_pages = 0\n",
    "    \n",
    "    @classmethod\n",
    "    def get_tot_pages(cls, current_page):\n",
    "        if current_page > cls.tot_pages:\n",
    "            cls.tot_pages = current_page\n",
    "        return cls.tot_pages\n",
    "\n",
    "def footer(canvas, doc):\n",
    "    if doc.page == 1:\n",
    "        return\n",
    "    tot_pages = PageCount.get_tot_pages(doc.page)\n",
    "    canvas.saveState()\n",
    "    #canvas.setFont('Times-Roman',9)\n",
    "    #canvas.drawString(cm, 0.75 * cm, \"Page %d \" % doc.page)\n",
    "    canvas.restoreState()\n",
    "    page = f\"Page {doc.page-1} of {tot_pages-1}\"\n",
    "    x = 128\n",
    "    canvas.saveState()\n",
    "    canvas.setStrokeColorRGB(0, 0, 0)\n",
    "    canvas.setLineWidth(0.5)\n",
    "    canvas.line(66, 60, A4[0] - 66, 60)\n",
    "    canvas.setFont('Times-Roman', 10)\n",
    "    canvas.drawString(A4[0]-x, 40, page)\n",
    "    canvas.restoreState()\n",
    "    canvas.setTitle(\"cool pdf\")"
   ]
  },
  {
   "cell_type": "code",
   "execution_count": 7,
   "metadata": {},
   "outputs": [
    {
     "name": "stdout",
     "output_type": "stream",
     "text": [
      "bookmark name 03c9db24ce32b5b9e6ca549ac017aa4e08c7ce69\n",
      "bookmark name 7e75303101d6a4dde29e228e26d4babb0843d18c\n",
      "bookmark name a6dd7024b00393112373f367671c2164701f8397\n",
      "bookmark name 32d876f1d8e3fb287a95908edf2544816062ea12\n"
     ]
    },
    {
     "data": {
      "text/plain": [
       "2"
      ]
     },
     "execution_count": 7,
     "metadata": {},
     "output_type": "execute_result"
    }
   ],
   "source": [
    "class MyDocTemplate(BaseDocTemplate):\n",
    "    def __init__(self, filename, **kw):\n",
    "        self.allowSplitting = 0\n",
    "        BaseDocTemplate.__init__(self, filename)\n",
    "        template = PageTemplate('normal', [Frame(2.5*cm, 2.5*cm, 15*cm, 25*cm, id='F1')],onPage=header, onPageEnd=footer)\n",
    "        self.addPageTemplates(template)\n",
    "\n",
    "    def afterFlowable(self, flowable):\n",
    "        \"Registers TOC entries.\"\n",
    "        if flowable.__class__.__name__ == 'Paragraph':\n",
    "            text = flowable.getPlainText()\n",
    "            style = flowable.style.name\n",
    "            if style == 'Heading1':\n",
    "                level = 0\n",
    "            elif style == 'Heading2':\n",
    "                level = 1\n",
    "            else:\n",
    "                return\n",
    "            E = [level, text, self.page-1]\n",
    "            #if we have a bookmark name append that to our notify data\n",
    "            bn = getattr(flowable,'_bookmarkName',None)\n",
    "            if bn is not None: E.append(bn)\n",
    "            self.notify('TOCEntry', tuple(E))\n",
    "\n",
    "centered = PS(name = 'centered',\n",
    "    fontSize = 30,\n",
    "    leading = 16,\n",
    "    alignment = 1,\n",
    "    spaceAfter = 20)\n",
    "\n",
    "h1 = PS(\n",
    "    name = 'Heading1',\n",
    "    fontSize = 14,\n",
    "    leading = 16)\n",
    "\n",
    "\n",
    "h2 = PS(name = 'Heading2',\n",
    "    fontSize = 12,\n",
    "    leading = 14)\n",
    "\n",
    "\n",
    "    \n",
    "t=Table(data)\n",
    "t.setStyle(TableStyle([('TEXTCOLOR',(0,0),(4,0),colors.red),\n",
    "                       ('TEXTCOLOR',(0,0),(0,4),colors.blue),\n",
    "                       ('INNERGRID', (0,0), (-1,-1), 0.25, colors.black),\n",
    "                       ('BOX', (0,0), (-1,-1), 0.25, colors.black),\n",
    "                       ('LINEABOVE', (0,1), (-1,-1), 0.25, colors.black),\n",
    "                       ('LINEBELOW', (0,-1), (-1,-1), 2, colors.green),\n",
    "                       ('ALIGN', (0, 7), (0, 7), \"LEFT\"),\n",
    "                       ('VALIGN',(0,0),(-1,-1),'MIDDLE')\n",
    "                      ]))\n",
    "\n",
    "\n",
    "\n",
    "# Build story.\n",
    "story = []\n",
    "\n",
    "# Create an instance of TableOfContents. Override the level styles (optional)\n",
    "# and add the object to the story\n",
    "\n",
    "toc = TableOfContents()\n",
    "toc.levelStyles = [\n",
    "    PS(fontName='Times-Bold', fontSize=15, name='TOCHeading1', leftIndent=20, firstLineIndent=-20, spaceBefore=10, leading=16),\n",
    "    PS(fontSize=10, name='TOCHeading2', leftIndent=40, firstLineIndent=-20, spaceBefore=5, leading=12, wordWrap = 'CJK')\n",
    "    ]\n",
    "story.append(Paragraph('<b>Table of contents</b>', centered))\n",
    "story.append(toc)\n",
    "\n",
    "# creates heading with bookmark => clickable in toc\n",
    "# bn: bookmarkname, sty: style\n",
    "def doHeading(text,sty):\n",
    "    from hashlib import sha1\n",
    "    #create bookmarkname\n",
    "    bn=sha1(text.encode('utf-8')+sty.name.encode('utf-8')).hexdigest()\n",
    "    print(\"bookmark name\", bn)\n",
    "    #modify paragraph text to include an anchor point with name bn\n",
    "    h=Paragraph(text+'<a name=\"%s\"/>' % bn,sty)\n",
    "    #store the fbookmark name on the flowable so afterFlowable can see this\n",
    "    h._bookmarkName=bn\n",
    "    story.append(h)\n",
    "\n",
    "story.append(PageBreak())\n",
    "doHeading('First heading', h1)\n",
    "\n",
    "story.append(Paragraph(\"<b>\"+\"TITLE\" + \"</b>\"+\"<br></br><br></br>\" + tst, PS(\"body\",\n",
    "                       spaceBefore=15,  # Space to Text above\n",
    "                       spaceAfter=15,\n",
    "                       leftIndent = 10,  # since border needs space too\n",
    "                       rightIndent = 10,                       fontSize=10,\n",
    "                       textColor=colors.black,\n",
    "                       borderColor=colors.black,\n",
    "                       borderWidth=.5, \n",
    "                       borderPadding=5,  # space b/w text and border\n",
    "                       backColor=colors.Color(red=(240.0/255),green=(240.0/255),blue=(240.0/255)), \n",
    "                       borderRadius=5)))\n",
    "doHeading('First sub heading', h2)\n",
    "story.append(Paragraph('Text in first sub heading', PS('body', fontSize=5)))\n",
    "story.append(PageBreak())\n",
    "doHeading('Second sub heading', h2)\n",
    "story.append(Paragraph('Text in second sub heading', PS('body', fontSize=9, alignment=TA_LEFT)))\n",
    "story.append(t)\n",
    "story.append(PageBreak())\n",
    "doHeading('Last heading', h1)\n",
    "story.append(Paragraph('Text in last heading', PS('body', fontSize=9)))\n",
    "doc = MyDocTemplate('test_doc.pdf')\n",
    "doc.multiBuild(story)  # multi build makes several passes, needed bc of toc"
   ]
  }
 ],
 "metadata": {
  "kernelspec": {
   "display_name": "Python 3",
   "language": "python",
   "name": "python3"
  },
  "language_info": {
   "codemirror_mode": {
    "name": "ipython",
    "version": 3
   },
   "file_extension": ".py",
   "mimetype": "text/x-python",
   "name": "python",
   "nbconvert_exporter": "python",
   "pygments_lexer": "ipython3",
   "version": "3.8.1"
  }
 },
 "nbformat": 4,
 "nbformat_minor": 4
}
